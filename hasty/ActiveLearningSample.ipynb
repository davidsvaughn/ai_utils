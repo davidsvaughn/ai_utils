{
 "cells": [
  {
   "cell_type": "code",
   "execution_count": 1,
   "metadata": {},
   "outputs": [],
   "source": [
    "import albumentations as A\n",
    "import numpy as np\n",
    "import torch\n",
    "import torchvision\n",
    "from PIL import Image"
   ]
  },
  {
   "cell_type": "code",
   "execution_count": 2,
   "metadata": {},
   "outputs": [],
   "source": [
    "def calculate_margin(probs):\n",
    "    sorted_probs, _ = torch.sort(probs, dim=1, descending=True)\n",
    "    return sorted_probs[:, 0] - sorted_probs[:, 1]\n",
    "\n",
    "def output_transform(pred):\n",
    "    final_output = []\n",
    "    final_output.append(pred.get(\"scores\").tolist())\n",
    "    return final_output"
   ]
  },
  {
   "cell_type": "code",
   "execution_count": 3,
   "metadata": {},
   "outputs": [],
   "source": [
    "device = torch.device('cuda' if torch.cuda.is_available() else 'cpu')\n",
    "\n",
    "model = torch.jit.load('model.pt').to(device)\n",
    "\n",
    "transforms = A.load('transforms.json')\n",
    "# image_path = '/path/to/your/image'\n",
    "image_path = '/home/wattx/hasty/images/cats/10000000001.jpg' # TODO: remove this\n",
    "image = np.array(Image.open(image_path))\n",
    "image = transforms(image=image)['image']"
   ]
  },
  {
   "cell_type": "code",
   "execution_count": 5,
   "metadata": {},
   "outputs": [
    {
     "data": {
      "text/plain": [
       "0.04942387342453003"
      ]
     },
     "execution_count": 5,
     "metadata": {},
     "output_type": "execute_result"
    }
   ],
   "source": [
    "# Convert to torch tensor\n",
    "x = torch.from_numpy(image).to(device)\n",
    "with torch.no_grad():\n",
    "    # Convert to channels first, convert to float datatype\n",
    "    x = x.permute(2, 0, 1).float()\n",
    "    y = model(x)\n",
    "\n",
    "    # Calculate active learning scores\n",
    "    image_instance_scores = output_transform(y)\n",
    "    # NOTE: image instance scores should be a list of class probabilities for every instance\n",
    "    # It's not true for this example cause exported Hasty model is not supported that atm\n",
    "    # e.g. for OD  with two classes and three predictions, it should look like \n",
    "    # [[0.2, 0.8], [0.1, 0.9], [0.45, 0.55]]\n",
    "    #\n",
    "    # probs = torch.Tensor([[0.2, 0.8], [0.1, 0.9], [0.45, 0.55]])\n",
    "    # scores = calculate_margin(torch.as_tensor(probs))\n",
    "    # print(torch.min(scores).item())\n",
    "    # >  0.10000002384185791\n",
    "    \n",
    "    # For YoLO probability vectore should exists in results:\n",
    "    # detector = DetectMultiBackend(weights)\n",
    "    # result = detector.mode.predict({'image': im})\n",
    "    \n",
    "    scores = 0\n",
    "    if len(image_instance_scores):\n",
    "        scores = calculate_margin(torch.as_tensor(image_instance_scores))\n",
    "        scores = torch.min(scores).item()\n",
    "scores"
   ]
  },
  {
   "cell_type": "markdown",
   "metadata": {},
   "source": [
    "Note: The lower the score the less certain the model about this image. Usually we suggest to have a threshold < 0.2, as a candidate for annotation. If the score is 0, it means that model haven't detect anything, might be something to check why"
   ]
  },
  {
   "cell_type": "code",
   "execution_count": null,
   "metadata": {},
   "outputs": [],
   "source": []
  }
 ],
 "metadata": {
  "kernelspec": {
   "display_name": "Python [conda env:mobile]",
   "language": "python",
   "name": "conda-env-mobile-py"
  },
  "language_info": {
   "codemirror_mode": {
    "name": "ipython",
    "version": 3
   },
   "file_extension": ".py",
   "mimetype": "text/x-python",
   "name": "python",
   "nbconvert_exporter": "python",
   "pygments_lexer": "ipython3",
   "version": "3.8.8"
  }
 },
 "nbformat": 4,
 "nbformat_minor": 2
}
